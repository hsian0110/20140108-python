{
 "cells": [
  {
   "cell_type": "code",
   "execution_count": 10,
   "metadata": {},
   "outputs": [
    {
     "data": {
      "text/plain": [
       "20"
      ]
     },
     "execution_count": 10,
     "metadata": {},
     "output_type": "execute_result"
    }
   ],
   "source": [
    "#=指定運算子\n",
    "\n",
    "n=5\n",
    "n=n+5\n",
    "n=n*2\n",
    "n"
   ]
  },
  {
   "cell_type": "code",
   "execution_count": 13,
   "metadata": {},
   "outputs": [
    {
     "data": {
      "text/plain": [
       "20"
      ]
     },
     "execution_count": 13,
     "metadata": {},
     "output_type": "execute_result"
    }
   ],
   "source": [
    "#=複合指定運算子\n",
    "\n",
    "m=5\n",
    "m+=5\n",
    "m*=2\n",
    "m"
   ]
  },
  {
   "cell_type": "code",
   "execution_count": 14,
   "metadata": {},
   "outputs": [
    {
     "data": {
      "text/plain": [
       "5"
      ]
     },
     "execution_count": 14,
     "metadata": {},
     "output_type": "execute_result"
    }
   ],
   "source": [
    "#=把字串轉成整數型別\n",
    "\n",
    "value = int (input(\"請輸入整數\"))\n",
    "value"
   ]
  },
  {
   "cell_type": "code",
   "execution_count": 17,
   "metadata": {},
   "outputs": [
    {
     "data": {
      "text/plain": [
       "int"
      ]
     },
     "execution_count": 17,
     "metadata": {},
     "output_type": "execute_result"
    }
   ],
   "source": [
    "#=型別 判斷\n",
    "\n",
    "type(value)"
   ]
  },
  {
   "cell_type": "code",
   "execution_count": 19,
   "metadata": {},
   "outputs": [
    {
     "data": {
      "text/plain": [
       "float"
      ]
     },
     "execution_count": 19,
     "metadata": {},
     "output_type": "execute_result"
    }
   ],
   "source": [
    "#=浮點\n",
    "#=把字串轉成浮點型別\n",
    "#=型別 判斷\n",
    "\n",
    "value1=float (input(\"請輸入整數\"))\n",
    "type(value1)"
   ]
  },
  {
   "cell_type": "code",
   "execution_count": 23,
   "metadata": {},
   "outputs": [
    {
     "name": "stdout",
     "output_type": "stream",
     "text": [
      "矩形的面積是 997.0999999999999 平方公分\n"
     ]
    }
   ],
   "source": [
    "#=請輸入矩形的寬,高,計算面機\n",
    "\n",
    "width= float(input(\"請輸入的寬:\"))\n",
    "height= float(input(\"請輸入的高\"))\n",
    "print(\"矩形的面積是\",width*height,\"平方公分\")"
   ]
  },
  {
   "cell_type": "code",
   "execution_count": 27,
   "metadata": {},
   "outputs": [
    {
     "name": "stdout",
     "output_type": "stream",
     "text": [
      "BMI值是 26.2719466871716\n"
     ]
    }
   ],
   "source": [
    "#=請輸入身高,體重,計算BMI\n",
    "\n",
    "weight= float(input(\"請體重公斤:\"))\n",
    "height= float(input(\"請輸入身高_公尺\"))\n",
    "print(\"BMI值是\",weight/(height**2))"
   ]
  }
 ],
 "metadata": {
  "kernelspec": {
   "display_name": "Python 3",
   "language": "python",
   "name": "python3"
  },
  "language_info": {
   "codemirror_mode": {
    "name": "ipython",
    "version": 3
   },
   "file_extension": ".py",
   "mimetype": "text/x-python",
   "name": "python",
   "nbconvert_exporter": "python",
   "pygments_lexer": "ipython3",
   "version": "3.10.8"
  }
 },
 "nbformat": 4,
 "nbformat_minor": 2
}

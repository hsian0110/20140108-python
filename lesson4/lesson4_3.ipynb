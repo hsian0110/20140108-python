{
 "cells": [
  {
   "cell_type": "code",
   "execution_count": 1,
   "metadata": {},
   "outputs": [
    {
     "data": {
      "text/plain": [
       "55"
      ]
     },
     "execution_count": 1,
     "metadata": {},
     "output_type": "execute_result"
    }
   ],
   "source": [
    "#累加 複合指定運算\n",
    "\n",
    "n = 0\n",
    "n += 1\n",
    "n += 2\n",
    "n += 3\n",
    "n += 4\n",
    "n += 5\n",
    "n += 6\n",
    "n += 7\n",
    "n += 8\n",
    "n += 9\n",
    "n += 10\n",
    "n\n"
   ]
  },
  {
   "cell_type": "code",
   "execution_count": 2,
   "metadata": {},
   "outputs": [
    {
     "name": "stdout",
     "output_type": "stream",
     "text": [
      "3825\n"
     ]
    }
   ],
   "source": [
    "n = 0\n",
    "for i in range(50,101):    \n",
    "    n += i\n",
    "\n",
    "print(n)"
   ]
  },
  {
   "cell_type": "code",
   "execution_count": 3,
   "metadata": {},
   "outputs": [
    {
     "name": "stdout",
     "output_type": "stream",
     "text": [
      "起始數值: 1\n",
      "結束數值: 53562850\n",
      "起始數值 1434489476842675\n"
     ]
    }
   ],
   "source": [
    "#累加 複合指定運算\n",
    "#int(\"請輸入起始值,請輸入結束值\")\n",
    "\n",
    "\n",
    "n = 0\n",
    "i = int(input (\"請輸入起始值:\"))\n",
    "print(\"起始數值:\",i)\n",
    "z = int(input (\"請輸入結束值:\"))\n",
    "print(\"結束數值:\",z)\n",
    "for i in range(i,z+1):\n",
    "    n += i\n",
    "\n",
    "print(\"起始數值\",n)\n"
   ]
  },
  {
   "cell_type": "code",
   "execution_count": null,
   "metadata": {},
   "outputs": [],
   "source": [
    "#pico下的無限迴圈 不要用 會太大\n",
    "while True:\n",
    "    print(\"無限迴圈\")"
   ]
  }
 ],
 "metadata": {
  "kernelspec": {
   "display_name": "Python 3",
   "language": "python",
   "name": "python3"
  },
  "language_info": {
   "codemirror_mode": {
    "name": "ipython",
    "version": 3
   },
   "file_extension": ".py",
   "mimetype": "text/x-python",
   "name": "python",
   "nbconvert_exporter": "python",
   "pygments_lexer": "ipython3",
   "version": "3.10.8"
  }
 },
 "nbformat": 4,
 "nbformat_minor": 2
}

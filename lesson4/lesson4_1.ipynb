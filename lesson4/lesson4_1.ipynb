{
 "cells": [
  {
   "cell_type": "code",
   "execution_count": 1,
   "metadata": {},
   "outputs": [
    {
     "data": {
      "text/plain": [
       "True"
      ]
     },
     "execution_count": 1,
     "metadata": {},
     "output_type": "execute_result"
    }
   ],
   "source": [
    "5>3"
   ]
  },
  {
   "cell_type": "code",
   "execution_count": 2,
   "metadata": {},
   "outputs": [
    {
     "data": {
      "text/plain": [
       "True"
      ]
     },
     "execution_count": 2,
     "metadata": {},
     "output_type": "execute_result"
    }
   ],
   "source": [
    "5==5"
   ]
  },
  {
   "cell_type": "code",
   "execution_count": 3,
   "metadata": {},
   "outputs": [
    {
     "data": {
      "text/plain": [
       "False"
      ]
     },
     "execution_count": 3,
     "metadata": {},
     "output_type": "execute_result"
    }
   ],
   "source": [
    "5!=5"
   ]
  },
  {
   "cell_type": "code",
   "execution_count": 3,
   "metadata": {},
   "outputs": [
    {
     "name": "stdout",
     "output_type": "stream",
     "text": [
      "不可以投票\n",
      "未成年\n"
     ]
    }
   ],
   "source": [
    "#流程控制\n",
    "#布林值\n",
    "\n",
    "age= int(input(\"請輸入age\"))\n",
    "if age >=18:\n",
    "    print(\"可以投票\")\n",
    "    print(\"成年\")\n",
    "else:\n",
    "    print(\"不可以投票\")\n",
    "    print(\"未成年\")\n"
   ]
  },
  {
   "cell_type": "code",
   "execution_count": 19,
   "metadata": {},
   "outputs": [
    {
     "name": "stdout",
     "output_type": "stream",
     "text": [
      "300\n",
      "300\n"
     ]
    }
   ],
   "source": [
    "#流程控制 雙向選擇\n",
    "#學生總分為300\n",
    "#部分學生可以加分5%\n",
    "#若加分超過300,以300分為上限\n",
    "\n",
    "scores = int (input(\"請輸入學生分數\"))\n",
    "if scores <= 300:\n",
    "    is_add = input(\"學生是否符合加分條件?(y,n):\")\n",
    "    #巢狀判斷\n",
    "    if(is_add==\"y\"):\n",
    "        scores *= 1.05\n",
    "        if scores > 300:\n",
    "            scores =300\n",
    "    print(round(scores))\n",
    "else:\n",
    "    print(\"輸入錯誤!\")\n",
    "\n",
    "print(round(scores))"
   ]
  },
  {
   "cell_type": "code",
   "execution_count": 22,
   "metadata": {},
   "outputs": [
    {
     "name": "stdout",
     "output_type": "stream",
     "text": [
      "成功\n"
     ]
    }
   ],
   "source": [
    "#區間數值選擇\n",
    "#巢狀判斷\n",
    "\n",
    "distance = float(input(\"請輸入投射距離\"))\n",
    "if distance >= 80:\n",
    "    if distance <= 100:\n",
    "        print(\"成功\")\n",
    "    else:\n",
    "        print(\"失敗\")\n",
    "else:\n",
    "    print(\"失敗\")"
   ]
  },
  {
   "cell_type": "code",
   "execution_count": 23,
   "metadata": {},
   "outputs": [
    {
     "name": "stdout",
     "output_type": "stream",
     "text": [
      "成功\n"
     ]
    }
   ],
   "source": [
    "#邏輯運算子\n",
    "#嚴格數值選擇\n",
    "\n",
    "distance = float(input(\"請輸入投射距離\"))\n",
    "if distance >= 80 and distance <= 100:\n",
    "        print(\"成功\")\n",
    "else:\n",
    "        print(\"失敗\")\n"
   ]
  },
  {
   "cell_type": "code",
   "execution_count": 26,
   "metadata": {},
   "outputs": [
    {
     "name": "stdout",
     "output_type": "stream",
     "text": [
      "失敗\n"
     ]
    }
   ],
   "source": [
    "#邏輯運算子 \n",
    "#寬鬆選擇\n",
    "\n",
    "distance = float(input(\"請輸入投射距離\"))\n",
    "if distance < 80 and distance > 100:\n",
    "        print(\"成功\")\n",
    "else:\n",
    "        print(\"失敗\")\n"
   ]
  },
  {
   "cell_type": "code",
   "execution_count": null,
   "metadata": {},
   "outputs": [],
   "source": [
    "#流程控制 雙向判斷\n",
    "#學生總分為300\n",
    "#部分學生可以加分5%\n",
    "#若加分超過300,以300分為上限\n",
    "\n",
    "scores = int (input(\"請輸入學生分數\"))\n",
    "if scores <= 300: and input(\"學生是否符合加分條件?(y,n):\")\n",
    "    #巢狀判斷\n",
    "    if(is_add==\"y\"):\n",
    "        scores *= 1.05\n",
    "        if scores > 300:\n",
    "            scores =300\n",
    "    print(round(scores))\n",
    "else:\n",
    "    print(\"輸入錯誤!\")\n",
    "\n",
    "print(round(scores))"
   ]
  }
 ],
 "metadata": {
  "kernelspec": {
   "display_name": "Python 3",
   "language": "python",
   "name": "python3"
  },
  "language_info": {
   "codemirror_mode": {
    "name": "ipython",
    "version": 3
   },
   "file_extension": ".py",
   "mimetype": "text/x-python",
   "name": "python",
   "nbconvert_exporter": "python",
   "pygments_lexer": "ipython3",
   "version": "3.10.8"
  }
 },
 "nbformat": 4,
 "nbformat_minor": 2
}

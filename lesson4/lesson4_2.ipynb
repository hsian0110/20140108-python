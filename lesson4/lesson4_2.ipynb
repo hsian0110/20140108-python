{
 "cells": [
  {
   "cell_type": "code",
   "execution_count": 1,
   "metadata": {},
   "outputs": [
    {
     "name": "stdout",
     "output_type": "stream",
     "text": [
      "錯誤發生\n"
     ]
    }
   ],
   "source": [
    "#pico 優雅的錯誤\n",
    "#閃退不會知道 \n",
    "#有錯就執行except\n",
    "\n",
    "try:\n",
    "    2 / 0\n",
    "except:\n",
    "    print(\"錯誤發生\")"
   ]
  },
  {
   "cell_type": "code",
   "execution_count": 2,
   "metadata": {},
   "outputs": [
    {
     "name": "stdout",
     "output_type": "stream",
     "text": [
      "錯誤發生\n"
     ]
    }
   ],
   "source": [
    "try:\n",
    "    raise RuntimeError(\"發生錯誤\")\n",
    "except:\n",
    "    print(\"錯誤發生\")"
   ]
  },
  {
   "cell_type": "code",
   "execution_count": 5,
   "metadata": {},
   "outputs": [
    {
     "name": "stdout",
     "output_type": "stream",
     "text": [
      "Hello! World!\n",
      "沒有發生錯誤\n",
      "結束程式\n"
     ]
    }
   ],
   "source": [
    "#優雅的錯誤\n",
    "#try-except-else\n",
    "#沒錯會有招呼語,有錯就結束程式\n",
    "\n",
    "try:\n",
    "    #2 / 0\n",
    "    print(\"Hello! World!\")\n",
    "except:\n",
    "    print(\"錯誤發生\")\n",
    "else:\n",
    "    print(\"沒有發生錯誤\")\n",
    "print(\"結束程式\")\n"
   ]
  }
 ],
 "metadata": {
  "kernelspec": {
   "display_name": "Python 3",
   "language": "python",
   "name": "python3"
  },
  "language_info": {
   "codemirror_mode": {
    "name": "ipython",
    "version": 3
   },
   "file_extension": ".py",
   "mimetype": "text/x-python",
   "name": "python",
   "nbconvert_exporter": "python",
   "pygments_lexer": "ipython3",
   "version": "3.10.8"
  }
 },
 "nbformat": 4,
 "nbformat_minor": 2
}
